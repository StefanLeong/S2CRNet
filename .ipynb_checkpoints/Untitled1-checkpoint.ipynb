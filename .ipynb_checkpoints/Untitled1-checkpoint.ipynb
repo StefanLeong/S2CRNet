{
 "cells": [
  {
   "cell_type": "code",
   "execution_count": 17,
   "metadata": {},
   "outputs": [
    {
     "name": "stdout",
     "output_type": "stream",
     "text": [
      "5\n",
      "('vehicle', 1949)\n",
      "('food', 6896)\n",
      "('animal', 7643)\n",
      "('person', 20475)\n",
      "('others', 28779)\n"
     ]
    }
   ],
   "source": [
    "def count_label(data):\n",
    "    total = 0\n",
    "    ratio = 0.0\n",
    "    data_dict = {}\n",
    "    \n",
    "    file = open(data, 'r')\n",
    "    lines = file.readlines()\n",
    "    for line in lines:\n",
    "        content = line.strip().split()\n",
    "        label = content[1]\n",
    "        \n",
    "        if label not in data_dict:\n",
    "            data_dict[label] = 0\n",
    "        data_dict[label] += 1\n",
    "        \n",
    "    for val in data_dict.values():\n",
    "        total += val\n",
    "    for key, val in data_dict.items():\n",
    "        ratio = float(val / total)\n",
    "        data_dict[key] = val\n",
    "    return data_dict\n",
    "\n",
    "HCOCO_path = '/home/ipprlab/datasets/HCOCO/HCOCO_test_slabels.txt'\n",
    "HAdobe5K_path = '/home/ipprlab/datasets/HAdobe5k/HAdobe5k_train_slabels.txt'\n",
    "HFlickr_path = '/home/ipprlab/datasets/HFlickr/HFlickr_train_slabels_04.txt'\n",
    "count_label_dic = count_label(HFlickr_path.replace('HFlickr', 'HCOCO'))\n",
    "print(len(count_label_dic))\n",
    "count_label_dic = sorted(count_label_dic.items(), key=lambda x:x[1])\n",
    "for item in count_label_dic:\n",
    "    print(item)"
   ]
  },
  {
   "cell_type": "code",
   "execution_count": null,
   "metadata": {},
   "outputs": [],
   "source": []
  }
 ],
 "metadata": {
  "kernelspec": {
   "display_name": "py36",
   "language": "python",
   "name": "py36"
  },
  "language_info": {
   "codemirror_mode": {
    "name": "ipython",
    "version": 3
   },
   "file_extension": ".py",
   "mimetype": "text/x-python",
   "name": "python",
   "nbconvert_exporter": "python",
   "pygments_lexer": "ipython3",
   "version": "3.6.12"
  }
 },
 "nbformat": 4,
 "nbformat_minor": 4
}
