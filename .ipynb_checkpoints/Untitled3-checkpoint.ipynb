{
 "cells": [
  {
   "cell_type": "code",
   "execution_count": 26,
   "metadata": {},
   "outputs": [
    {
     "name": "stdout",
     "output_type": "stream",
     "text": [
      "(3008, 2000)\n",
      "[[[  6  60 101]\n",
      "  [  6  60 101]\n",
      "  [  6  60 101]\n",
      "  ...\n",
      "  [  3  17  53]\n",
      "  [  1  10  47]\n",
      "  [  0   6  40]]\n",
      "\n",
      " [[  6  60 101]\n",
      "  [  6  60 101]\n",
      "  [  6  60 101]\n",
      "  ...\n",
      "  [  7  20  58]\n",
      "  [  3  14  52]\n",
      "  [  0  10  46]]\n",
      "\n",
      " [[  6  60 101]\n",
      "  [  6  60 101]\n",
      "  [  6  60 101]\n",
      "  ...\n",
      "  [  8  24  66]\n",
      "  [  4  18  60]\n",
      "  [  2  14  54]]\n",
      "\n",
      " ...\n",
      "\n",
      " [[ 48  67  74]\n",
      "  [ 49  68  75]\n",
      "  [ 50  69  76]\n",
      "  ...\n",
      "  [ 25  34  37]\n",
      "  [ 21  28  31]\n",
      "  [ 16  23  26]]\n",
      "\n",
      " [[ 44  63  71]\n",
      "  [ 44  63  71]\n",
      "  [ 46  65  73]\n",
      "  ...\n",
      "  [ 25  32  35]\n",
      "  [ 18  25  28]\n",
      "  [ 13  20  23]]\n",
      "\n",
      " [[ 40  59  67]\n",
      "  [ 41  60  68]\n",
      "  [ 42  61  69]\n",
      "  ...\n",
      "  [ 24  31  34]\n",
      "  [ 17  24  27]\n",
      "  [ 11  18  21]]]\n"
     ]
    }
   ],
   "source": [
    "import cv2\n",
    "import numpy as np\n",
    "\n",
    "def draw_contour_cv2(image, mask, color=(252,248,122)):\n",
    "#     coef = 255 if np.max(image) < 3 else 1\n",
    "#     image = (image * coef).astype(np.float32)\n",
    "    contours, _ = cv2.findContours(mask, cv2.RETR_TREE, cv2.CHAIN_APPROX_SIMPLE)\n",
    "    cv2.drawContours(image, contours, -1,color,2)\n",
    "    cv2.imwrite('/home/ipprlab/projects/xharm/Figs/CurveAnalyze/supp/inputs_mask/a1580_1_4.jpg', cv2.cvtColor(image, cv2.COLOR_RGB2BGR))\n",
    "    print(cv2.cvtColor(image, cv2.COLOR_RGB2BGR))\n",
    "\n",
    "    \n",
    "cv2_img = cv2.imread('/home/ipprlab/projects/xharm/Figs/CurveAnalyze/supp/inputs/a1580_1_4.jpg')\n",
    "\n",
    "cv2_img = cv2.cvtColor(cv2_img, cv2.COLOR_BGR2RGB)\n",
    "# cv2_img = cv2.resize(cv2_img, (256, 256))\n",
    "\n",
    "mask = cv2.imread('/home/ipprlab/datasets/HAdobe5k/masks/a1580_1.png')\n",
    "mask = mask[:, :, 0].astype(np.float32) / 255.\n",
    "mask = mask.astype(np.uint8)\n",
    "mask = cv2.resize(mask, (256, 256))\n",
    "\n",
    "print(mask.shape)\n",
    "\n",
    "draw_contour_cv2(cv2_img, mask)"
   ]
  },
  {
   "cell_type": "code",
   "execution_count": null,
   "metadata": {},
   "outputs": [],
   "source": []
  }
 ],
 "metadata": {
  "kernelspec": {
   "display_name": "py36",
   "language": "python",
   "name": "py36"
  },
  "language_info": {
   "codemirror_mode": {
    "name": "ipython",
    "version": 3
   },
   "file_extension": ".py",
   "mimetype": "text/x-python",
   "name": "python",
   "nbconvert_exporter": "python",
   "pygments_lexer": "ipython3",
   "version": "3.6.12"
  }
 },
 "nbformat": 4,
 "nbformat_minor": 4
}
